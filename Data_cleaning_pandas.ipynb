{
 "cells": [
  {
   "attachments": {},
   "cell_type": "markdown",
   "metadata": {},
   "source": [
    "PANDAS DATAFRAME PREPARATION\n",
    "Topics:\n",
    "- upoading table;\n",
    "- indexing dataframe rows;\n",
    "- handling null values;\n",
    "- string cleaning;\n",
    "- data type modification;\n"
   ]
  },
  {
   "attachments": {},
   "cell_type": "markdown",
   "metadata": {},
   "source": [
    "In this short tutorial we used data on countries of the world data table, obtained from: https://www.kaggle.com/datasets/fernandol/countries-of-the-world . "
   ]
  },
  {
   "attachments": {},
   "cell_type": "markdown",
   "metadata": {},
   "source": [
    "First, we will import data from csv file. Since the fisrst column is unique and contains country names we will set it as index with index_col argument."
   ]
  },
  {
   "cell_type": "code",
   "execution_count": 1,
   "metadata": {},
   "outputs": [],
   "source": [
    "import pandas as pd, numpy as np\n",
    "df=pd.read_csv('countries of the world.csv', index_col=0)"
   ]
  },
  {
   "attachments": {},
   "cell_type": "markdown",
   "metadata": {},
   "source": [
    "Then we will check for null values, and replace them with 0."
   ]
  },
  {
   "cell_type": "code",
   "execution_count": 2,
   "metadata": {},
   "outputs": [
    {
     "name": "stdout",
     "output_type": "stream",
     "text": [
      "Region                                 0\n",
      "Population                             0\n",
      "Area (sq. mi.)                         0\n",
      "Pop. Density (per sq. mi.)             0\n",
      "Coastline (coast/area ratio)           0\n",
      "Net migration                          3\n",
      "Infant mortality (per 1000 births)     3\n",
      "GDP ($ per capita)                     1\n",
      "Literacy (%)                          18\n",
      "Phones (per 1000)                      4\n",
      "Arable (%)                             2\n",
      "Crops (%)                              2\n",
      "Other (%)                              2\n",
      "Climate                               22\n",
      "Birthrate                              3\n",
      "Deathrate                              4\n",
      "Agriculture                           15\n",
      "Industry                              16\n",
      "Service                               15\n",
      "dtype: int64\n"
     ]
    },
    {
     "data": {
      "text/plain": [
       "Region                                0\n",
       "Population                            0\n",
       "Area (sq. mi.)                        0\n",
       "Pop. Density (per sq. mi.)            0\n",
       "Coastline (coast/area ratio)          0\n",
       "Net migration                         0\n",
       "Infant mortality (per 1000 births)    0\n",
       "GDP ($ per capita)                    0\n",
       "Literacy (%)                          0\n",
       "Phones (per 1000)                     0\n",
       "Arable (%)                            0\n",
       "Crops (%)                             0\n",
       "Other (%)                             0\n",
       "Climate                               0\n",
       "Birthrate                             0\n",
       "Deathrate                             0\n",
       "Agriculture                           0\n",
       "Industry                              0\n",
       "Service                               0\n",
       "dtype: int64"
      ]
     },
     "execution_count": 2,
     "metadata": {},
     "output_type": "execute_result"
    }
   ],
   "source": [
    "#handling null values\n",
    "print(df.isna().sum()) #number of missing values per row\n",
    "df.fillna(0, inplace=True) #replace missing with 0\n",
    "df.isna().sum()"
   ]
  },
  {
   "attachments": {},
   "cell_type": "markdown",
   "metadata": {},
   "source": [
    "Next we want to check if data is in correct form. To get the big picture of the data we will preview it with head() method. This will print the first 5 rows of our data.\n",
    "\n"
   ]
  },
  {
   "cell_type": "code",
   "execution_count": 3,
   "metadata": {},
   "outputs": [
    {
     "data": {
      "text/html": [
       "<div>\n",
       "<style scoped>\n",
       "    .dataframe tbody tr th:only-of-type {\n",
       "        vertical-align: middle;\n",
       "    }\n",
       "\n",
       "    .dataframe tbody tr th {\n",
       "        vertical-align: top;\n",
       "    }\n",
       "\n",
       "    .dataframe thead th {\n",
       "        text-align: right;\n",
       "    }\n",
       "</style>\n",
       "<table border=\"1\" class=\"dataframe\">\n",
       "  <thead>\n",
       "    <tr style=\"text-align: right;\">\n",
       "      <th></th>\n",
       "      <th>Region</th>\n",
       "      <th>Population</th>\n",
       "      <th>Area (sq. mi.)</th>\n",
       "      <th>Pop. Density (per sq. mi.)</th>\n",
       "      <th>Coastline (coast/area ratio)</th>\n",
       "      <th>Net migration</th>\n",
       "      <th>Infant mortality (per 1000 births)</th>\n",
       "      <th>GDP ($ per capita)</th>\n",
       "      <th>Literacy (%)</th>\n",
       "      <th>Phones (per 1000)</th>\n",
       "      <th>Arable (%)</th>\n",
       "      <th>Crops (%)</th>\n",
       "      <th>Other (%)</th>\n",
       "      <th>Climate</th>\n",
       "      <th>Birthrate</th>\n",
       "      <th>Deathrate</th>\n",
       "      <th>Agriculture</th>\n",
       "      <th>Industry</th>\n",
       "      <th>Service</th>\n",
       "    </tr>\n",
       "    <tr>\n",
       "      <th>Country</th>\n",
       "      <th></th>\n",
       "      <th></th>\n",
       "      <th></th>\n",
       "      <th></th>\n",
       "      <th></th>\n",
       "      <th></th>\n",
       "      <th></th>\n",
       "      <th></th>\n",
       "      <th></th>\n",
       "      <th></th>\n",
       "      <th></th>\n",
       "      <th></th>\n",
       "      <th></th>\n",
       "      <th></th>\n",
       "      <th></th>\n",
       "      <th></th>\n",
       "      <th></th>\n",
       "      <th></th>\n",
       "      <th></th>\n",
       "    </tr>\n",
       "  </thead>\n",
       "  <tbody>\n",
       "    <tr>\n",
       "      <th>Afghanistan</th>\n",
       "      <td>ASIA (EX. NEAR EAST)</td>\n",
       "      <td>31056997</td>\n",
       "      <td>647500</td>\n",
       "      <td>48,0</td>\n",
       "      <td>0,00</td>\n",
       "      <td>23,06</td>\n",
       "      <td>163,07</td>\n",
       "      <td>700.0</td>\n",
       "      <td>36,0</td>\n",
       "      <td>3,2</td>\n",
       "      <td>12,13</td>\n",
       "      <td>0,22</td>\n",
       "      <td>87,65</td>\n",
       "      <td>1</td>\n",
       "      <td>46,6</td>\n",
       "      <td>20,34</td>\n",
       "      <td>0,38</td>\n",
       "      <td>0,24</td>\n",
       "      <td>0,38</td>\n",
       "    </tr>\n",
       "    <tr>\n",
       "      <th>Albania</th>\n",
       "      <td>EASTERN EUROPE</td>\n",
       "      <td>3581655</td>\n",
       "      <td>28748</td>\n",
       "      <td>124,6</td>\n",
       "      <td>1,26</td>\n",
       "      <td>-4,93</td>\n",
       "      <td>21,52</td>\n",
       "      <td>4500.0</td>\n",
       "      <td>86,5</td>\n",
       "      <td>71,2</td>\n",
       "      <td>21,09</td>\n",
       "      <td>4,42</td>\n",
       "      <td>74,49</td>\n",
       "      <td>3</td>\n",
       "      <td>15,11</td>\n",
       "      <td>5,22</td>\n",
       "      <td>0,232</td>\n",
       "      <td>0,188</td>\n",
       "      <td>0,579</td>\n",
       "    </tr>\n",
       "    <tr>\n",
       "      <th>Algeria</th>\n",
       "      <td>NORTHERN AFRICA</td>\n",
       "      <td>32930091</td>\n",
       "      <td>2381740</td>\n",
       "      <td>13,8</td>\n",
       "      <td>0,04</td>\n",
       "      <td>-0,39</td>\n",
       "      <td>31</td>\n",
       "      <td>6000.0</td>\n",
       "      <td>70,0</td>\n",
       "      <td>78,1</td>\n",
       "      <td>3,22</td>\n",
       "      <td>0,25</td>\n",
       "      <td>96,53</td>\n",
       "      <td>1</td>\n",
       "      <td>17,14</td>\n",
       "      <td>4,61</td>\n",
       "      <td>0,101</td>\n",
       "      <td>0,6</td>\n",
       "      <td>0,298</td>\n",
       "    </tr>\n",
       "    <tr>\n",
       "      <th>American Samoa</th>\n",
       "      <td>OCEANIA</td>\n",
       "      <td>57794</td>\n",
       "      <td>199</td>\n",
       "      <td>290,4</td>\n",
       "      <td>58,29</td>\n",
       "      <td>-20,71</td>\n",
       "      <td>9,27</td>\n",
       "      <td>8000.0</td>\n",
       "      <td>97,0</td>\n",
       "      <td>259,5</td>\n",
       "      <td>10</td>\n",
       "      <td>15</td>\n",
       "      <td>75</td>\n",
       "      <td>2</td>\n",
       "      <td>22,46</td>\n",
       "      <td>3,27</td>\n",
       "      <td>0</td>\n",
       "      <td>0</td>\n",
       "      <td>0</td>\n",
       "    </tr>\n",
       "    <tr>\n",
       "      <th>Andorra</th>\n",
       "      <td>WESTERN EUROPE</td>\n",
       "      <td>71201</td>\n",
       "      <td>468</td>\n",
       "      <td>152,1</td>\n",
       "      <td>0,00</td>\n",
       "      <td>6,6</td>\n",
       "      <td>4,05</td>\n",
       "      <td>19000.0</td>\n",
       "      <td>100,0</td>\n",
       "      <td>497,2</td>\n",
       "      <td>2,22</td>\n",
       "      <td>0</td>\n",
       "      <td>97,78</td>\n",
       "      <td>3</td>\n",
       "      <td>8,71</td>\n",
       "      <td>6,25</td>\n",
       "      <td>0</td>\n",
       "      <td>0</td>\n",
       "      <td>0</td>\n",
       "    </tr>\n",
       "  </tbody>\n",
       "</table>\n",
       "</div>"
      ],
      "text/plain": [
       "                                              Region  Population  \\\n",
       "Country                                                            \n",
       "Afghanistan            ASIA (EX. NEAR EAST)             31056997   \n",
       "Albania          EASTERN EUROPE                          3581655   \n",
       "Algeria          NORTHERN AFRICA                        32930091   \n",
       "American Samoa   OCEANIA                                   57794   \n",
       "Andorra          WESTERN EUROPE                            71201   \n",
       "\n",
       "                 Area (sq. mi.) Pop. Density (per sq. mi.)  \\\n",
       "Country                                                      \n",
       "Afghanistan              647500                       48,0   \n",
       "Albania                   28748                      124,6   \n",
       "Algeria                 2381740                       13,8   \n",
       "American Samoa              199                      290,4   \n",
       "Andorra                     468                      152,1   \n",
       "\n",
       "                Coastline (coast/area ratio) Net migration  \\\n",
       "Country                                                      \n",
       "Afghanistan                             0,00         23,06   \n",
       "Albania                                 1,26         -4,93   \n",
       "Algeria                                 0,04         -0,39   \n",
       "American Samoa                         58,29        -20,71   \n",
       "Andorra                                 0,00           6,6   \n",
       "\n",
       "                Infant mortality (per 1000 births)  GDP ($ per capita)  \\\n",
       "Country                                                                  \n",
       "Afghanistan                                 163,07               700.0   \n",
       "Albania                                      21,52              4500.0   \n",
       "Algeria                                         31              6000.0   \n",
       "American Samoa                                9,27              8000.0   \n",
       "Andorra                                       4,05             19000.0   \n",
       "\n",
       "                Literacy (%) Phones (per 1000) Arable (%) Crops (%) Other (%)  \\\n",
       "Country                                                                         \n",
       "Afghanistan             36,0               3,2      12,13      0,22     87,65   \n",
       "Albania                 86,5              71,2      21,09      4,42     74,49   \n",
       "Algeria                 70,0              78,1       3,22      0,25     96,53   \n",
       "American Samoa          97,0             259,5         10        15        75   \n",
       "Andorra                100,0             497,2       2,22         0     97,78   \n",
       "\n",
       "                Climate Birthrate Deathrate Agriculture Industry Service  \n",
       "Country                                                                   \n",
       "Afghanistan           1      46,6     20,34        0,38     0,24    0,38  \n",
       "Albania               3     15,11      5,22       0,232    0,188   0,579  \n",
       "Algeria               1     17,14      4,61       0,101      0,6   0,298  \n",
       "American Samoa        2     22,46      3,27           0        0       0  \n",
       "Andorra               3      8,71      6,25           0        0       0  "
      ]
     },
     "execution_count": 3,
     "metadata": {},
     "output_type": "execute_result"
    }
   ],
   "source": [
    "df.head()"
   ]
  },
  {
   "attachments": {},
   "cell_type": "markdown",
   "metadata": {},
   "source": [
    "The indexes and region column are in string form. We want to examine their values so we will print them out. We will print all the indexes, since they are unique for every row, and only unique values of region. \n",
    "\n",
    "Both contain trailing spaces, so we will need to trim them."
   ]
  },
  {
   "cell_type": "code",
   "execution_count": 4,
   "metadata": {},
   "outputs": [
    {
     "name": "stdout",
     "output_type": "stream",
     "text": [
      "Index(['Afghanistan ', 'Albania ', 'Algeria ', 'American Samoa ', 'Andorra ',\n",
      "       'Angola ', 'Anguilla ', 'Antigua & Barbuda ', 'Argentina ', 'Armenia ',\n",
      "       ...\n",
      "       'Vanuatu ', 'Venezuela ', 'Vietnam ', 'Virgin Islands ',\n",
      "       'Wallis and Futuna ', 'West Bank ', 'Western Sahara ', 'Yemen ',\n",
      "       'Zambia ', 'Zimbabwe '],\n",
      "      dtype='object', name='Country', length=227)\n",
      "['ASIA (EX. NEAR EAST)         ' 'BALTICS                            '\n",
      " 'C.W. OF IND. STATES ' 'EASTERN EUROPE                     '\n",
      " 'LATIN AMER. & CARIB    ' 'NEAR EAST                          '\n",
      " 'NORTHERN AFRICA                    '\n",
      " 'NORTHERN AMERICA                   '\n",
      " 'OCEANIA                            '\n",
      " 'SUB-SAHARAN AFRICA                 '\n",
      " 'WESTERN EUROPE                     ']\n"
     ]
    }
   ],
   "source": [
    "print(df.index)\n",
    "print(np.unique(df.Region))"
   ]
  },
  {
   "cell_type": "code",
   "execution_count": 5,
   "metadata": {},
   "outputs": [
    {
     "name": "stdout",
     "output_type": "stream",
     "text": [
      "Index(['Afghanistan', 'Albania', 'Algeria', 'American Samoa', 'Andorra',\n",
      "       'Angola', 'Anguilla', 'Antigua & Barbuda', 'Argentina', 'Armenia',\n",
      "       ...\n",
      "       'Vanuatu', 'Venezuela', 'Vietnam', 'Virgin Islands',\n",
      "       'Wallis and Futuna', 'West Bank', 'Western Sahara', 'Yemen', 'Zambia',\n",
      "       'Zimbabwe'],\n",
      "      dtype='object', name='Country', length=227)\n",
      "['ASIA (EX. NEAR EAST)' 'BALTICS' 'C.W. OF IND. STATES' 'EASTERN EUROPE'\n",
      " 'LATIN AMER. & CARIB' 'NEAR EAST' 'NORTHERN AFRICA' 'NORTHERN AMERICA'\n",
      " 'OCEANIA' 'SUB-SAHARAN AFRICA' 'WESTERN EUROPE']\n"
     ]
    }
   ],
   "source": [
    "df.index=df.index.str.strip()\n",
    "df.Region=df.Region.str.strip()\n",
    "print(df.index)\n",
    "print(np.unique(df.Region))"
   ]
  },
  {
   "attachments": {},
   "cell_type": "markdown",
   "metadata": {},
   "source": [
    "Next, we want to check the data type of our columns. We expect object data type for Region and Climate. Climate column contains numeric codes for 5 clymate types. For others we expect integer and float data type.\n"
   ]
  },
  {
   "cell_type": "code",
   "execution_count": 6,
   "metadata": {},
   "outputs": [
    {
     "name": "stdout",
     "output_type": "stream",
     "text": [
      "<class 'pandas.core.frame.DataFrame'>\n",
      "Index: 227 entries, Afghanistan to Zimbabwe\n",
      "Data columns (total 19 columns):\n",
      " #   Column                              Non-Null Count  Dtype  \n",
      "---  ------                              --------------  -----  \n",
      " 0   Region                              227 non-null    object \n",
      " 1   Population                          227 non-null    int64  \n",
      " 2   Area (sq. mi.)                      227 non-null    int64  \n",
      " 3   Pop. Density (per sq. mi.)          227 non-null    object \n",
      " 4   Coastline (coast/area ratio)        227 non-null    object \n",
      " 5   Net migration                       227 non-null    object \n",
      " 6   Infant mortality (per 1000 births)  227 non-null    object \n",
      " 7   GDP ($ per capita)                  227 non-null    float64\n",
      " 8   Literacy (%)                        227 non-null    object \n",
      " 9   Phones (per 1000)                   227 non-null    object \n",
      " 10  Arable (%)                          227 non-null    object \n",
      " 11  Crops (%)                           227 non-null    object \n",
      " 12  Other (%)                           227 non-null    object \n",
      " 13  Climate                             227 non-null    object \n",
      " 14  Birthrate                           227 non-null    object \n",
      " 15  Deathrate                           227 non-null    object \n",
      " 16  Agriculture                         227 non-null    object \n",
      " 17  Industry                            227 non-null    object \n",
      " 18  Service                             227 non-null    object \n",
      "dtypes: float64(1), int64(2), object(16)\n",
      "memory usage: 35.5+ KB\n"
     ]
    }
   ],
   "source": [
    "df.info()\n"
   ]
  },
  {
   "attachments": {},
   "cell_type": "markdown",
   "metadata": {},
   "source": [
    "After checking data types with .info() method we foud out most columns are object data types and wee need to convert them. In the preview above we can see, that there is comma instead of decimal point. Before converting to float we need to replace it."
   ]
  },
  {
   "cell_type": "code",
   "execution_count": 7,
   "metadata": {},
   "outputs": [
    {
     "name": "stdout",
     "output_type": "stream",
     "text": [
      "<class 'pandas.core.frame.DataFrame'>\n",
      "Index: 227 entries, Afghanistan to Zimbabwe\n",
      "Data columns (total 19 columns):\n",
      " #   Column                              Non-Null Count  Dtype  \n",
      "---  ------                              --------------  -----  \n",
      " 0   Region                              227 non-null    object \n",
      " 1   Population                          227 non-null    int64  \n",
      " 2   Area (sq. mi.)                      227 non-null    int64  \n",
      " 3   Pop. Density (per sq. mi.)          227 non-null    float64\n",
      " 4   Coastline (coast/area ratio)        227 non-null    float64\n",
      " 5   Net migration                       224 non-null    float64\n",
      " 6   Infant mortality (per 1000 births)  224 non-null    float64\n",
      " 7   GDP ($ per capita)                  227 non-null    float64\n",
      " 8   Literacy (%)                        209 non-null    float64\n",
      " 9   Phones (per 1000)                   223 non-null    float64\n",
      " 10  Arable (%)                          225 non-null    float64\n",
      " 11  Crops (%)                           225 non-null    float64\n",
      " 12  Other (%)                           225 non-null    float64\n",
      " 13  Climate                             227 non-null    object \n",
      " 14  Birthrate                           224 non-null    float64\n",
      " 15  Deathrate                           223 non-null    float64\n",
      " 16  Agriculture                         212 non-null    float64\n",
      " 17  Industry                            211 non-null    float64\n",
      " 18  Service                             212 non-null    float64\n",
      "dtypes: float64(15), int64(2), object(2)\n",
      "memory usage: 35.5+ KB\n"
     ]
    }
   ],
   "source": [
    "columns= ['Pop. Density (per sq. mi.)', 'Coastline (coast/area ratio)', 'Net migration','Infant mortality (per 1000 births)', 'Literacy (%)','Phones (per 1000)', 'Arable (%)',\n",
    "        'Crops (%)', 'Other (%)', 'Birthrate','Deathrate','Agriculture', 'Industry', 'Service']\n",
    "for column in df[columns]:\n",
    "    df[column]=df[column].str.replace(',','.')\n",
    "\n",
    "df[columns]=df[columns].apply(pd.to_numeric)\n",
    "df.info() "
   ]
  },
  {
   "attachments": {},
   "cell_type": "markdown",
   "metadata": {},
   "source": [
    "GDP column is in float datatype, but from the preview it looks like it doesn't decimal point is redundant and should be an intiger. Before converting e should confirm none of the values have decimals. We can do that with calculating module of division with 1: in the case of whole numbers the modlue will be 0, while for decimal number the module will be a number after the decimal point."
   ]
  },
  {
   "cell_type": "code",
   "execution_count": 9,
   "metadata": {},
   "outputs": [
    {
     "data": {
      "text/plain": [
       "0.0"
      ]
     },
     "execution_count": 9,
     "metadata": {},
     "output_type": "execute_result"
    }
   ],
   "source": [
    "#check for GDP\n",
    "modula=df['GDP ($ per capita)']%1\n",
    "modula.sum()"
   ]
  },
  {
   "cell_type": "code",
   "execution_count": 10,
   "metadata": {},
   "outputs": [
    {
     "name": "stdout",
     "output_type": "stream",
     "text": [
      "<class 'pandas.core.frame.DataFrame'>\n",
      "Index: 227 entries, Afghanistan to Zimbabwe\n",
      "Data columns (total 19 columns):\n",
      " #   Column                              Non-Null Count  Dtype  \n",
      "---  ------                              --------------  -----  \n",
      " 0   Region                              227 non-null    object \n",
      " 1   Population                          227 non-null    int64  \n",
      " 2   Area (sq. mi.)                      227 non-null    int64  \n",
      " 3   Pop. Density (per sq. mi.)          227 non-null    float64\n",
      " 4   Coastline (coast/area ratio)        227 non-null    float64\n",
      " 5   Net migration                       224 non-null    float64\n",
      " 6   Infant mortality (per 1000 births)  224 non-null    float64\n",
      " 7   GDP ($ per capita)                  227 non-null    int32  \n",
      " 8   Literacy (%)                        209 non-null    float64\n",
      " 9   Phones (per 1000)                   223 non-null    float64\n",
      " 10  Arable (%)                          225 non-null    float64\n",
      " 11  Crops (%)                           225 non-null    float64\n",
      " 12  Other (%)                           225 non-null    float64\n",
      " 13  Climate                             227 non-null    object \n",
      " 14  Birthrate                           224 non-null    float64\n",
      " 15  Deathrate                           223 non-null    float64\n",
      " 16  Agriculture                         212 non-null    float64\n",
      " 17  Industry                            211 non-null    float64\n",
      " 18  Service                             212 non-null    float64\n",
      "dtypes: float64(14), int32(1), int64(2), object(2)\n",
      "memory usage: 34.6+ KB\n"
     ]
    }
   ],
   "source": [
    "df['GDP ($ per capita)']=df['GDP ($ per capita)'].astype(int)\n",
    "df.info()"
   ]
  }
 ],
 "metadata": {
  "kernelspec": {
   "display_name": "Python 3",
   "language": "python",
   "name": "python3"
  },
  "language_info": {
   "codemirror_mode": {
    "name": "ipython",
    "version": 3
   },
   "file_extension": ".py",
   "mimetype": "text/x-python",
   "name": "python",
   "nbconvert_exporter": "python",
   "pygments_lexer": "ipython3",
   "version": "3.11.1"
  },
  "orig_nbformat": 4,
  "vscode": {
   "interpreter": {
    "hash": "2cf0796e90af5c4362a9058e40ead308a0ab9c01c1fed6aabeb9432b5691820a"
   }
  }
 },
 "nbformat": 4,
 "nbformat_minor": 2
}
